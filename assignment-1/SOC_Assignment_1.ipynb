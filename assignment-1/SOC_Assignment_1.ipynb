{
  "nbformat": 4,
  "nbformat_minor": 0,
  "metadata": {
    "colab": {
      "name": "SOC_Assignment_1.ipynb",
      "provenance": []
    },
    "kernelspec": {
      "name": "python3",
      "display_name": "Python 3"
    },
    "language_info": {
      "name": "python"
    }
  },
  "cells": [
    {
      "cell_type": "markdown",
      "source": [
        "# Import lib"
      ],
      "metadata": {
        "id": "Ycgo978STcSm"
      }
    },
    {
      "cell_type": "code",
      "execution_count": null,
      "metadata": {
        "id": "UOio-hqInQd1"
      },
      "outputs": [],
      "source": [
        "import pickle as pkl\n",
        "import pandas as pd\n",
        "import numpy as np\n",
        "import matplotlib.pyplot as plt"
      ]
    },
    {
      "cell_type": "markdown",
      "source": [
        "# Loading Datasets"
      ],
      "metadata": {
        "id": "Si_HZbO2UEYV"
      }
    },
    {
      "cell_type": "code",
      "source": [
        "df = pd.read_pickle(\"/content/drive/MyDrive/train_data.pkl\")\n",
        "type(df)                            # a dictionary \n",
        "X = np.array(df['X'])\n",
        "X = X.T\n",
        "Y = np.array(df[\"y\"])\n",
        "X = np.divide(X, 255) #normalized\n",
        "\n",
        "# to split data into test & train dataset\n",
        "X_train = X[ : , :50000]\n",
        "X_test = X[ : , 50000: ]\n",
        "Y_train = Y[ : 50000, : ].reshape(1,50000)\n",
        "Y_test = Y[50000 : , : ].reshape(1,10000)"
      ],
      "metadata": {
        "id": "2KtGBu9tUAfm"
      },
      "execution_count": null,
      "outputs": []
    },
    {
      "cell_type": "code",
      "source": [
        "Y_test"
      ],
      "metadata": {
        "colab": {
          "base_uri": "https://localhost:8080/"
        },
        "id": "xcBSo3ZqRxMw",
        "outputId": "db22fdf6-33e1-41c9-b5fe-51cba58f65d8"
      },
      "execution_count": null,
      "outputs": [
        {
          "output_type": "execute_result",
          "data": {
            "text/plain": [
              "array([[8, 6, 7, ..., 1, 8, 6]], dtype=uint8)"
            ]
          },
          "metadata": {},
          "execution_count": 4
        }
      ]
    },
    {
      "cell_type": "code",
      "source": [
        "# displaying random 16 numbers\n",
        "import random\n",
        "rand = random.sample(range(0,60000), 16)\n",
        "print(rand)\n",
        "for i in rand:\n",
        "  image = X[ : ,i, None]\n",
        "  image = image.reshape((28,28))*255\n",
        "  plt.gray()\n",
        "  plt.imshow(image, interpolation = \"nearest\")\n",
        "  plt.show()\n",
        "  print(Y[i])"
      ],
      "metadata": {
        "id": "o_t55zP3UnbD"
      },
      "execution_count": null,
      "outputs": []
    },
    {
      "cell_type": "markdown",
      "source": [
        "# Building up parts of our classifier"
      ],
      "metadata": {
        "id": "kCt6ZnQ-iwMn"
      }
    },
    {
      "cell_type": "code",
      "source": [
        "# Activation functions\n",
        "def ReLU(Z):\n",
        "  return np.maximum(0,Z)\n",
        "def softmax(Z):\n",
        "  return np.exp(Z)/np.sum(np.exp(Z), axis=0)"
      ],
      "metadata": {
        "id": "UhU8MpPzivtf"
      },
      "execution_count": null,
      "outputs": []
    },
    {
      "cell_type": "code",
      "source": [
        "# initializing the weights\n",
        "def init_params():\n",
        "  W0 = np.random.randn(10, 784)\n",
        "  b0 = np.random.randn(10,1)\n",
        "  W1 = np.random.randn(10,10)\n",
        "  b1 = np.random.randn(10,1)\n",
        "  return W0, b0, W1, b1"
      ],
      "metadata": {
        "id": "5EoOjcyUj2P5"
      },
      "execution_count": null,
      "outputs": []
    },
    {
      "cell_type": "code",
      "source": [
        "# Forward propogation\n",
        "def forward_propg(X, W0, b0, W1, b1):\n",
        "  Z1 = W0.dot(X) + b0\n",
        "  A1 = ReLU(Z1)\n",
        "  Z2 = W1.dot(A1) + b1\n",
        "  A2 = softmax(Z2)\n",
        "  return Z1, A1, Z2, A2"
      ],
      "metadata": {
        "id": "KSuJq560k0Jt"
      },
      "execution_count": null,
      "outputs": []
    },
    {
      "cell_type": "code",
      "source": [
        "def one_hot(Y):\n",
        "  one_hot_Y = np.zeros((Y.size, Y.max()+1))\n",
        "  one_hot_Y[np.arange(Y.size), Y] = 1\n",
        "  one_hot_Y = one_hot_Y.T\n",
        "  return one_hot_Y\n",
        "\n",
        "def deriv_ReLU(Z):\n",
        "    return Z>0"
      ],
      "metadata": {
        "id": "PEQYTsZdi--V"
      },
      "execution_count": null,
      "outputs": []
    },
    {
      "cell_type": "code",
      "source": [
        "# Backwad propogation\n",
        "def backward_propg(X, Y, W1, Z1, A1, Z2, A2):\n",
        "  m = Y.size\n",
        "  one_hot_Y = one_hot(Y)\n",
        "  dZ2 = A2 - one_hot_Y\n",
        "  dW1 = 1/m * dZ2.dot(A1.T)\n",
        "  db1 = 1/m * np.sum(dZ2)\n",
        "  dZ1 = W1.T.dot(dZ2) * deriv_ReLU(Z1)\n",
        "  dW0 = 1/m * dZ1.dot(X.T)\n",
        "  db0 = 1/m * np.sum(dZ1)\n",
        "  return dW0, db0, dW1, db1 \n",
        "\n",
        "def update_param(W0, b0, W1, b1, dW0, db0, dW1, db1, alpha):\n",
        "  W0 = W0 - alpha*dW0\n",
        "  b0 = b0 - alpha*db0\n",
        "  W1 = W1 - alpha*dW1\n",
        "  b1 = b1 - alpha*db1\n",
        "  return W0, b0, W1, b1"
      ],
      "metadata": {
        "id": "Pas6KjY7k9cC"
      },
      "execution_count": null,
      "outputs": []
    },
    {
      "cell_type": "code",
      "source": [
        "def get_prediction(A2):\n",
        "  return np.argmax(A2, 0)\n",
        "\n",
        "def get_accuracy(pred, Y):\n",
        "  #print(pred, Y)\n",
        "  return np.sum(pred == Y)/Y.size"
      ],
      "metadata": {
        "id": "-zt9S3TLBY8g"
      },
      "execution_count": null,
      "outputs": []
    },
    {
      "cell_type": "code",
      "source": [
        "# gradient descent (standard batch gradient decent)\n",
        "def grad_desc(X, Y, epox, alpha):\n",
        "  W0, b0, W1, b1 = init_params()\n",
        "  for i in range(epox):\n",
        "    Z1, A1, Z2, A2 = forward_propg(X, W0, b0, W1, b1)\n",
        "    dW0, db0, dW1, db1 = backward_propg(X, Y, W1, Z1, A1, Z2, A2)\n",
        "    W0, b0, W1, b1 = update_param(W0, b0, W1, b1, dW0, db0, dW1, db1, alpha)\n",
        "    \n",
        "    if i%50 == 0:\n",
        "      print(\"Iteration: \", i)\n",
        "      print(\"Accuracy: \", get_accuracy(get_prediction(A2), Y))\n",
        "  return W0, b0, W1, b1"
      ],
      "metadata": {
        "id": "O_Hp74FFDdad"
      },
      "execution_count": null,
      "outputs": []
    },
    {
      "cell_type": "markdown",
      "source": [
        "# Training"
      ],
      "metadata": {
        "id": "xo4R8CDApf-c"
      }
    },
    {
      "cell_type": "code",
      "source": [
        "#training the model\n",
        "W0, b0, W1, b1 = grad_desc(X_train, Y_train, 10000, 0.1)\n",
        "\n",
        "# achived a accuracy of 86.5%"
      ],
      "metadata": {
        "id": "Y2sYe58mGPn4"
      },
      "execution_count": null,
      "outputs": []
    },
    {
      "cell_type": "markdown",
      "source": [
        "# Making predictions on test dataset"
      ],
      "metadata": {
        "id": "TCcetvOT2WZr"
      }
    },
    {
      "cell_type": "code",
      "source": [
        "def make_pred(W0, b0, W1, b1, X, Y):\n",
        "  Z1, A1, Z2, A2 = forward_propg(X, W0, b0, W1, b1)\n",
        "  print(\"Accuracy: \", get_accuracy(get_prediction(A2), Y))\n",
        "\n",
        "make_pred(W0, b0, W1, b1, X_test, Y_test)\n",
        "\n",
        "# achives an accuracy of 85.4%"
      ],
      "metadata": {
        "id": "g_kPif-qyrhb"
      },
      "execution_count": null,
      "outputs": []
    },
    {
      "cell_type": "markdown",
      "source": [
        "# Save as pickle"
      ],
      "metadata": {
        "id": "Idk9okE2eFfp"
      }
    },
    {
      "cell_type": "code",
      "source": [
        "import pickle\n",
        "import random\n",
        "from google.colab import files\n",
        "\n",
        "roll_num = \"20D170020\"\n",
        "hidden_dim = 10\n",
        "model_dict = {\n",
        "    'z': 10, # hidden dimension of your model\n",
        "    'layer_0_wt': W0, # layer 0 weight (784, z)\n",
        "    'layer_0_bias': b0, # layer 0 bias (z, 1)\n",
        "    'layer_1_wt': W1, # layer 1 weight (z, 10)\n",
        "    'layer_1_bias': b1 # layer 1 bias (10, 1)\n",
        "}\n",
        "\n",
        "assert model_dict['layer_0_wt'].shape == (10,784)\n",
        "assert model_dict['layer_0_bias'].shape == (10, 1)\n",
        "assert model_dict['layer_1_wt'].shape == (10, 10)\n",
        "assert model_dict['layer_1_bias'].shape == (10, 1)\n",
        "\n",
        "with open(f'model_20D170020.pkl', 'wb') as f:\n",
        "    pickle.dump(model_dict, f)\n",
        "    files.download(f'model_20D170020.pkl')"
      ],
      "metadata": {
        "colab": {
          "base_uri": "https://localhost:8080/",
          "height": 357
        },
        "id": "t8F2jUASd9fx",
        "outputId": "3a3a4dab-be2b-4da7-b965-4c69c4ed4ec7"
      },
      "execution_count": null,
      "outputs": [
        {
          "output_type": "error",
          "ename": "NameError",
          "evalue": "ignored",
          "traceback": [
            "\u001b[0;31m---------------------------------------------------------------------------\u001b[0m",
            "\u001b[0;31mNameError\u001b[0m                                 Traceback (most recent call last)",
            "\u001b[0;32m<ipython-input-18-c653209efe29>\u001b[0m in \u001b[0;36m<module>\u001b[0;34m()\u001b[0m\n\u001b[1;32m      7\u001b[0m model_dict = {\n\u001b[1;32m      8\u001b[0m     \u001b[0;34m'z'\u001b[0m\u001b[0;34m:\u001b[0m \u001b[0;36m10\u001b[0m\u001b[0;34m,\u001b[0m \u001b[0;31m# hidden dimension of your model\u001b[0m\u001b[0;34m\u001b[0m\u001b[0;34m\u001b[0m\u001b[0m\n\u001b[0;32m----> 9\u001b[0;31m     \u001b[0;34m'layer_0_wt'\u001b[0m\u001b[0;34m:\u001b[0m \u001b[0mW0\u001b[0m\u001b[0;34m,\u001b[0m \u001b[0;31m# layer 0 weight (784, z)\u001b[0m\u001b[0;34m\u001b[0m\u001b[0;34m\u001b[0m\u001b[0m\n\u001b[0m\u001b[1;32m     10\u001b[0m     \u001b[0;34m'layer_0_bias'\u001b[0m\u001b[0;34m:\u001b[0m \u001b[0mb0\u001b[0m\u001b[0;34m,\u001b[0m \u001b[0;31m# layer 0 bias (z, 1)\u001b[0m\u001b[0;34m\u001b[0m\u001b[0;34m\u001b[0m\u001b[0m\n\u001b[1;32m     11\u001b[0m     \u001b[0;34m'layer_1_wt'\u001b[0m\u001b[0;34m:\u001b[0m \u001b[0mW1\u001b[0m\u001b[0;34m,\u001b[0m \u001b[0;31m# layer 1 weight (z, 10)\u001b[0m\u001b[0;34m\u001b[0m\u001b[0;34m\u001b[0m\u001b[0m\n",
            "\u001b[0;31mNameError\u001b[0m: name 'W0' is not defined"
          ]
        }
      ]
    }
  ]
}